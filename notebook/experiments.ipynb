{
 "cells": [
  {
   "cell_type": "code",
   "execution_count": 2,
   "metadata": {},
   "outputs": [
    {
     "data": {
      "text/plain": [
       "True"
      ]
     },
     "execution_count": 2,
     "metadata": {},
     "output_type": "execute_result"
    }
   ],
   "source": [
    "import os\n",
    "from dotenv import load_dotenv\n",
    "load_dotenv()\n"
   ]
  },
  {
   "cell_type": "code",
   "execution_count": 3,
   "metadata": {},
   "outputs": [],
   "source": [
    "google_api_key=os.getenv(\"GOOGLE_API_KEY\")"
   ]
  },
  {
   "cell_type": "code",
   "execution_count": 4,
   "metadata": {},
   "outputs": [
    {
     "name": "stdout",
     "output_type": "stream",
     "text": [
      "API key found\n"
     ]
    }
   ],
   "source": [
    "if google_api_key==\"\":\n",
    "    print(\"API key not found\")\n",
    "else:\n",
    "    print(\"API key found\")"
   ]
  },
  {
   "cell_type": "code",
   "execution_count": 5,
   "metadata": {},
   "outputs": [],
   "source": [
    "from llama_index.core import SimpleDirectoryReader\n",
    "from llama_index.core import VectorStoreIndex, GPTVectorStoreIndex\n",
    "from llama_index.llms.gemini import Gemini\n",
    "from IPython.display import Markdown, display\n",
    "from llama_index.core import ServiceContext\n",
    "from llama_index.core import Settings\n",
    "from llama_index.core import StorageContext, load_index_from_storage\n",
    "import google.generativeai as genai\n",
    "from llama_index.embeddings.gemini import GeminiEmbedding"
   ]
  },
  {
   "cell_type": "code",
   "execution_count": 6,
   "metadata": {},
   "outputs": [],
   "source": [
    "genai.configure(api_key=google_api_key)"
   ]
  },
  {
   "cell_type": "code",
   "execution_count": 7,
   "metadata": {},
   "outputs": [
    {
     "name": "stdout",
     "output_type": "stream",
     "text": [
      "Model(name='models/chat-bison-001',\n",
      "      base_model_id='',\n",
      "      version='001',\n",
      "      display_name='PaLM 2 Chat (Legacy)',\n",
      "      description='A legacy text-only model optimized for chat conversations',\n",
      "      input_token_limit=4096,\n",
      "      output_token_limit=1024,\n",
      "      supported_generation_methods=['generateMessage', 'countMessageTokens'],\n",
      "      temperature=0.25,\n",
      "      top_p=0.95,\n",
      "      top_k=40)\n",
      "Model(name='models/text-bison-001',\n",
      "      base_model_id='',\n",
      "      version='001',\n",
      "      display_name='PaLM 2 (Legacy)',\n",
      "      description='A legacy model that understands text and generates text as an output',\n",
      "      input_token_limit=8196,\n",
      "      output_token_limit=1024,\n",
      "      supported_generation_methods=['generateText', 'countTextTokens', 'createTunedTextModel'],\n",
      "      temperature=0.7,\n",
      "      top_p=0.95,\n",
      "      top_k=40)\n",
      "Model(name='models/embedding-gecko-001',\n",
      "      base_model_id='',\n",
      "      version='001',\n",
      "      display_name='Embedding Gecko',\n",
      "      description='Obtain a distributed representation of a text.',\n",
      "      input_token_limit=1024,\n",
      "      output_token_limit=1,\n",
      "      supported_generation_methods=['embedText', 'countTextTokens'],\n",
      "      temperature=None,\n",
      "      top_p=None,\n",
      "      top_k=None)\n",
      "Model(name='models/gemini-1.0-pro-latest',\n",
      "      base_model_id='',\n",
      "      version='001',\n",
      "      display_name='Gemini 1.0 Pro Latest',\n",
      "      description=('The best model for scaling across a wide range of tasks. This is the latest '\n",
      "                   'model.'),\n",
      "      input_token_limit=30720,\n",
      "      output_token_limit=2048,\n",
      "      supported_generation_methods=['generateContent', 'countTokens'],\n",
      "      temperature=0.9,\n",
      "      top_p=1.0,\n",
      "      top_k=None)\n",
      "Model(name='models/gemini-1.0-pro',\n",
      "      base_model_id='',\n",
      "      version='001',\n",
      "      display_name='Gemini 1.0 Pro',\n",
      "      description='The best model for scaling across a wide range of tasks',\n",
      "      input_token_limit=30720,\n",
      "      output_token_limit=2048,\n",
      "      supported_generation_methods=['generateContent', 'countTokens'],\n",
      "      temperature=0.9,\n",
      "      top_p=1.0,\n",
      "      top_k=None)\n",
      "Model(name='models/gemini-pro',\n",
      "      base_model_id='',\n",
      "      version='001',\n",
      "      display_name='Gemini 1.0 Pro',\n",
      "      description='The best model for scaling across a wide range of tasks',\n",
      "      input_token_limit=30720,\n",
      "      output_token_limit=2048,\n",
      "      supported_generation_methods=['generateContent', 'countTokens'],\n",
      "      temperature=0.9,\n",
      "      top_p=1.0,\n",
      "      top_k=None)\n",
      "Model(name='models/gemini-1.0-pro-001',\n",
      "      base_model_id='',\n",
      "      version='001',\n",
      "      display_name='Gemini 1.0 Pro 001 (Tuning)',\n",
      "      description=('The best model for scaling across a wide range of tasks. This is a stable '\n",
      "                   'model that supports tuning.'),\n",
      "      input_token_limit=30720,\n",
      "      output_token_limit=2048,\n",
      "      supported_generation_methods=['generateContent', 'countTokens', 'createTunedModel'],\n",
      "      temperature=0.9,\n",
      "      top_p=1.0,\n",
      "      top_k=None)\n",
      "Model(name='models/gemini-1.0-pro-vision-latest',\n",
      "      base_model_id='',\n",
      "      version='001',\n",
      "      display_name='Gemini 1.0 Pro Vision',\n",
      "      description='The best image understanding model to handle a broad range of applications',\n",
      "      input_token_limit=12288,\n",
      "      output_token_limit=4096,\n",
      "      supported_generation_methods=['generateContent', 'countTokens'],\n",
      "      temperature=0.4,\n",
      "      top_p=1.0,\n",
      "      top_k=32)\n",
      "Model(name='models/gemini-pro-vision',\n",
      "      base_model_id='',\n",
      "      version='001',\n",
      "      display_name='Gemini 1.0 Pro Vision',\n",
      "      description='The best image understanding model to handle a broad range of applications',\n",
      "      input_token_limit=12288,\n",
      "      output_token_limit=4096,\n",
      "      supported_generation_methods=['generateContent', 'countTokens'],\n",
      "      temperature=0.4,\n",
      "      top_p=1.0,\n",
      "      top_k=32)\n",
      "Model(name='models/gemini-1.5-pro-latest',\n",
      "      base_model_id='',\n",
      "      version='001',\n",
      "      display_name='Gemini 1.5 Pro Latest',\n",
      "      description='Mid-size multimodal model that supports up to 2 million tokens',\n",
      "      input_token_limit=2097152,\n",
      "      output_token_limit=8192,\n",
      "      supported_generation_methods=['generateContent', 'countTokens'],\n",
      "      temperature=1.0,\n",
      "      top_p=0.95,\n",
      "      top_k=64)\n",
      "Model(name='models/gemini-1.5-pro-001',\n",
      "      base_model_id='',\n",
      "      version='001',\n",
      "      display_name='Gemini 1.5 Pro 001',\n",
      "      description='Mid-size multimodal model that supports up to 2 million tokens',\n",
      "      input_token_limit=2097152,\n",
      "      output_token_limit=8192,\n",
      "      supported_generation_methods=['generateContent', 'countTokens', 'createCachedContent'],\n",
      "      temperature=1.0,\n",
      "      top_p=0.95,\n",
      "      top_k=64)\n",
      "Model(name='models/gemini-1.5-pro-002',\n",
      "      base_model_id='',\n",
      "      version='002',\n",
      "      display_name='Gemini 1.5 Pro 002',\n",
      "      description='Mid-size multimodal model that supports up to 2 million tokens',\n",
      "      input_token_limit=2097152,\n",
      "      output_token_limit=8192,\n",
      "      supported_generation_methods=['generateContent', 'countTokens'],\n",
      "      temperature=1.0,\n",
      "      top_p=0.95,\n",
      "      top_k=40)\n",
      "Model(name='models/gemini-1.5-pro',\n",
      "      base_model_id='',\n",
      "      version='001',\n",
      "      display_name='Gemini 1.5 Pro',\n",
      "      description='Mid-size multimodal model that supports up to 2 million tokens',\n",
      "      input_token_limit=2097152,\n",
      "      output_token_limit=8192,\n",
      "      supported_generation_methods=['generateContent', 'countTokens'],\n",
      "      temperature=1.0,\n",
      "      top_p=0.95,\n",
      "      top_k=64)\n",
      "Model(name='models/gemini-1.5-pro-exp-0801',\n",
      "      base_model_id='',\n",
      "      version='exp-0801',\n",
      "      display_name='Gemini 1.5 Pro Experimental 0801',\n",
      "      description='Mid-size multimodal model that supports up to 2 million tokens',\n",
      "      input_token_limit=2097152,\n",
      "      output_token_limit=8192,\n",
      "      supported_generation_methods=['generateContent', 'countTokens'],\n",
      "      temperature=1.0,\n",
      "      top_p=0.95,\n",
      "      top_k=64)\n",
      "Model(name='models/gemini-1.5-pro-exp-0827',\n",
      "      base_model_id='',\n",
      "      version='exp-0827',\n",
      "      display_name='Gemini 1.5 Pro Experimental 0827',\n",
      "      description='Mid-size multimodal model that supports up to 2 million tokens',\n",
      "      input_token_limit=2097152,\n",
      "      output_token_limit=8192,\n",
      "      supported_generation_methods=['generateContent', 'countTokens'],\n",
      "      temperature=1.0,\n",
      "      top_p=0.95,\n",
      "      top_k=64)\n",
      "Model(name='models/gemini-1.5-flash-latest',\n",
      "      base_model_id='',\n",
      "      version='001',\n",
      "      display_name='Gemini 1.5 Flash Latest',\n",
      "      description='Fast and versatile multimodal model for scaling across diverse tasks',\n",
      "      input_token_limit=1048576,\n",
      "      output_token_limit=8192,\n",
      "      supported_generation_methods=['generateContent', 'countTokens'],\n",
      "      temperature=1.0,\n",
      "      top_p=0.95,\n",
      "      top_k=64)\n",
      "Model(name='models/gemini-1.5-flash-001',\n",
      "      base_model_id='',\n",
      "      version='001',\n",
      "      display_name='Gemini 1.5 Flash 001',\n",
      "      description='Fast and versatile multimodal model for scaling across diverse tasks',\n",
      "      input_token_limit=1048576,\n",
      "      output_token_limit=8192,\n",
      "      supported_generation_methods=['generateContent', 'countTokens', 'createCachedContent'],\n",
      "      temperature=1.0,\n",
      "      top_p=0.95,\n",
      "      top_k=64)\n",
      "Model(name='models/gemini-1.5-flash-001-tuning',\n",
      "      base_model_id='',\n",
      "      version='001',\n",
      "      display_name='Gemini 1.5 Flash 001 Tuning',\n",
      "      description='Fast and versatile multimodal model for scaling across diverse tasks',\n",
      "      input_token_limit=16384,\n",
      "      output_token_limit=8192,\n",
      "      supported_generation_methods=['generateContent', 'countTokens', 'createTunedModel'],\n",
      "      temperature=1.0,\n",
      "      top_p=0.95,\n",
      "      top_k=64)\n",
      "Model(name='models/gemini-1.5-flash',\n",
      "      base_model_id='',\n",
      "      version='001',\n",
      "      display_name='Gemini 1.5 Flash',\n",
      "      description='Fast and versatile multimodal model for scaling across diverse tasks',\n",
      "      input_token_limit=1048576,\n",
      "      output_token_limit=8192,\n",
      "      supported_generation_methods=['generateContent', 'countTokens'],\n",
      "      temperature=1.0,\n",
      "      top_p=0.95,\n",
      "      top_k=64)\n",
      "Model(name='models/gemini-1.5-flash-exp-0827',\n",
      "      base_model_id='',\n",
      "      version='exp-0827',\n",
      "      display_name='Gemini 1.5 Flash Experimental 0827',\n",
      "      description='Fast and versatile multimodal model for scaling across diverse tasks',\n",
      "      input_token_limit=1048576,\n",
      "      output_token_limit=8192,\n",
      "      supported_generation_methods=['generateContent', 'countTokens'],\n",
      "      temperature=1.0,\n",
      "      top_p=0.95,\n",
      "      top_k=64)\n",
      "Model(name='models/gemini-1.5-flash-8b-exp-0827',\n",
      "      base_model_id='',\n",
      "      version='001',\n",
      "      display_name='Gemini 1.5 Flash 8B Experimental 0827',\n",
      "      description='Fast and versatile multimodal model for scaling across diverse tasks',\n",
      "      input_token_limit=1048576,\n",
      "      output_token_limit=8192,\n",
      "      supported_generation_methods=['generateContent', 'countTokens'],\n",
      "      temperature=1.0,\n",
      "      top_p=0.95,\n",
      "      top_k=40)\n",
      "Model(name='models/gemini-1.5-flash-8b-exp-0924',\n",
      "      base_model_id='',\n",
      "      version='001',\n",
      "      display_name='Gemini 1.5 Flash 8B Experimental 0924',\n",
      "      description='Fast and versatile multimodal model for scaling across diverse tasks',\n",
      "      input_token_limit=1048576,\n",
      "      output_token_limit=8192,\n",
      "      supported_generation_methods=['generateContent', 'countTokens'],\n",
      "      temperature=1.0,\n",
      "      top_p=0.95,\n",
      "      top_k=40)\n",
      "Model(name='models/gemini-1.5-flash-002',\n",
      "      base_model_id='',\n",
      "      version='002',\n",
      "      display_name='Gemini 1.5 Flash 002',\n",
      "      description='Fast and versatile multimodal model for scaling across diverse tasks',\n",
      "      input_token_limit=2097152,\n",
      "      output_token_limit=8192,\n",
      "      supported_generation_methods=['generateContent', 'countTokens'],\n",
      "      temperature=1.0,\n",
      "      top_p=0.95,\n",
      "      top_k=40)\n",
      "Model(name='models/embedding-001',\n",
      "      base_model_id='',\n",
      "      version='001',\n",
      "      display_name='Embedding 001',\n",
      "      description='Obtain a distributed representation of a text.',\n",
      "      input_token_limit=2048,\n",
      "      output_token_limit=1,\n",
      "      supported_generation_methods=['embedContent'],\n",
      "      temperature=None,\n",
      "      top_p=None,\n",
      "      top_k=None)\n",
      "Model(name='models/text-embedding-004',\n",
      "      base_model_id='',\n",
      "      version='004',\n",
      "      display_name='Text Embedding 004',\n",
      "      description='Obtain a distributed representation of a text.',\n",
      "      input_token_limit=2048,\n",
      "      output_token_limit=1,\n",
      "      supported_generation_methods=['embedContent'],\n",
      "      temperature=None,\n",
      "      top_p=None,\n",
      "      top_k=None)\n",
      "Model(name='models/aqa',\n",
      "      base_model_id='',\n",
      "      version='001',\n",
      "      display_name='Model that performs Attributed Question Answering.',\n",
      "      description=('Model trained to return answers to questions that are grounded in provided '\n",
      "                   'sources, along with estimating answerable probability.'),\n",
      "      input_token_limit=7168,\n",
      "      output_token_limit=1024,\n",
      "      supported_generation_methods=['generateAnswer'],\n",
      "      temperature=0.2,\n",
      "      top_p=1.0,\n",
      "      top_k=40)\n"
     ]
    }
   ],
   "source": [
    "for models in genai.list_models():\n",
    "    print(models)"
   ]
  },
  {
   "cell_type": "code",
   "execution_count": 8,
   "metadata": {},
   "outputs": [
    {
     "name": "stdout",
     "output_type": "stream",
     "text": [
      "models/gemini-1.0-pro-latest\n",
      "models/gemini-1.0-pro\n",
      "models/gemini-pro\n",
      "models/gemini-1.0-pro-001\n",
      "models/gemini-1.0-pro-vision-latest\n",
      "models/gemini-pro-vision\n",
      "models/gemini-1.5-pro-latest\n",
      "models/gemini-1.5-pro-001\n",
      "models/gemini-1.5-pro-002\n",
      "models/gemini-1.5-pro\n",
      "models/gemini-1.5-pro-exp-0801\n",
      "models/gemini-1.5-pro-exp-0827\n",
      "models/gemini-1.5-flash-latest\n",
      "models/gemini-1.5-flash-001\n",
      "models/gemini-1.5-flash-001-tuning\n",
      "models/gemini-1.5-flash\n",
      "models/gemini-1.5-flash-exp-0827\n",
      "models/gemini-1.5-flash-8b-exp-0827\n",
      "models/gemini-1.5-flash-8b-exp-0924\n",
      "models/gemini-1.5-flash-002\n"
     ]
    }
   ],
   "source": [
    "for models in genai.list_models():\n",
    "    if 'generateContent' in models.supported_generation_methods:\n",
    "        print(models.name)"
   ]
  },
  {
   "cell_type": "code",
   "execution_count": 9,
   "metadata": {},
   "outputs": [],
   "source": [
    "#documents=SimpleDirectoryReader(\"../Data\")\n",
    "reader = SimpleDirectoryReader(input_dir=\"../Data\")\n",
    "documents = reader.load_data()"
   ]
  },
  {
   "cell_type": "code",
   "execution_count": 10,
   "metadata": {},
   "outputs": [],
   "source": [
    "reader = SimpleDirectoryReader(input_dir=\"../Data\", recursive=True)\n",
    "all_docs = []\n",
    "for docs in reader.iter_data():\n",
    "    all_docs.extend(docs)"
   ]
  },
  {
   "cell_type": "code",
   "execution_count": 15,
   "metadata": {},
   "outputs": [
    {
     "data": {
      "text/plain": [
       "[Document(id_='89d0e567-4f59-4ccd-bd38-72fb92616aab', embedding=None, metadata={'file_path': 'c:\\\\Users\\\\bhumi\\\\OneDrive\\\\Desktop\\\\Gen AI\\\\Youtube - Sunny\\\\QASystem\\\\Data\\\\History Generative AI.txt', 'file_name': 'History Generative AI.txt', 'file_type': 'text/plain', 'file_size': 7164, 'creation_date': '2024-09-23', 'last_modified_date': '2024-09-23'}, excluded_embed_metadata_keys=['file_name', 'file_type', 'file_size', 'creation_date', 'last_modified_date', 'last_accessed_date'], excluded_llm_metadata_keys=['file_name', 'file_type', 'file_size', 'creation_date', 'last_modified_date', 'last_accessed_date'], relationships={}, text='Generative AI will be the most disruptive technological innovation since the advent of the personal computer and the inception of the Internet with the potential to create 10s of millions of new jobs, permanently alter the way we work, fuel the creator economy, and displace or augment 100s of millions of workers in roles from computer programmers to computer graphics artists, photographers, video editors, digital marketers and yes, even journalists. Even with all the hype around generative AI this year, it’s true power has not yet been seen or felt, in 2023 there will be significant innovations that will begin a revolution that will leave no industry or job function un-impacted in one way or another.\\r\\nGenerative AI research can trace its history back to the 1960s. However generative AI began to develop into something similar to its current form in 2006, with the first significant paper in the field, Geoffrey Hinton and his co-author’s “A Fast Learning Algorithm for Deep Belief Nets” which re-introduced Restricted Boltzmann Machines in the context of deep learning (he originally introduced the RBM concept in 1983.)\\r\\nHowever few innovations took place in the field, until in 2014, with the introduction of GANs by Ian Goodfellow and his colleagues. Generative AI developments in research were made in the following years, most significantly the introduction of the transformer architecture for natural language processing applications, presented in the paper “Attention is all you Need” by Vaswani and colleagues from Google.\\r\\nAlthough most people will admit that they were not aware of generative AI until 2022. This is when the technology was put into the hands of consumers with the release of several text-to-image model services like MidJourney, Dall-E 2, Imagen, and the open-source release of Stability AI’s Stable Diffusion. This was quickly followed up by OpenAI’s ChatGPT which mesmerized consumers with a version of GPT-3 re-trained on conversational dialog that seemingly had an answer for everything and delivered responses in a very human-like manner. At the same time VCs looking for the hot new technology to invest in caught the generative AI bug and both Stability AI and Jasper both became instant unicorns with Series A funding exceeding $100 million. GitHub’s Copilot also saw widespread adoption, a tool built on Open AI’s Codex which was trained on all public code repositories in Github and assists developers by converting natural language into executable software code.\\r\\nHowever, there has been significant backlash against generative AI. Many concerns have been raised about possible copyright infringements for generative AI art, text, and code as well as the impact to creative jobs. A class action lawsuit brought against Microsoft for Copilot will set a valuable precedence in the courts for which other lawsuits may be filed as many developers contend their intellectual property has been stolen. Artists, authors, and developers want to have their work excluded from the wide-scale scraping performed to create viable datasets for the large language and image models and artists on ArtStation have revolted requesting that all AI-generated art be banned from the platform.\\r\\n\\r\\nGenerative AI has been an active area of research since the 1960s when Joseph Weizenbaum developed the first chatbot named ELIZA. It was one of the first examples of Natural Language Processing (NLP) and was designed to simulate conversations with a human user by generating responses based on the text it received. Although the system was a primitive rules-based implementation intended to synthesize a human conversation, it paved the way for further developments over the coming decades in the field of NLP.\\r\\nModern generative AI is built on deep learning, which can trace its beginnings back to the 1950s. Deep learning innovations were fairly quiet for decades then saw a resurgence in the 80s and 90s with the advent of artificial neural networks (ANNs) and backpropagation algorithms. By the 2000s and 2010s the amount of data available and computational capabilities improved to the point where it would make deep learning practical. It was in 2012 that Geoffrey Hinton and his team made a breakthrough in the field of speech recognition using convolutional neural networks (CNNs) and then again in 2014 he and his team made a similar breakthrough in the field of image classification, which paved the way for major subsequent innovations in the study of artificial intelligence.\\r\\n\\r\\nIn 2014 Ian Goodfellow released his seminal paper on Generative Adversarial Networks (GANs) which positioned two networks against each other in a zero-sum game to create viable novel images that were similar in appearance to the images the model was trained on, but not the same. This work led to incremental developments in the GAN architecture which yielded increasingly better results in image synthesis over the following years, and the same methods began to be applied to new applications like music composition. New model architectures were developed in the form of convolutional and recurrent neural networks (text generation, video), long short-term memory (LSTM) (text generation), transformers (text generation), variational auto encoders (VAEs) (image generation), diffusion models (image generation) and various flow model architectures (audio, image, video.) Additional adjacent work in generative AI produced neural radiance fields (NeRF) which can construct 3D scenes and assets out of 2D images and reinforcement learning which uses simulations to train an agent through reward-based trial and error.\\r\\nAlthough significant achievements in the space have been realized in recent years, including the generation of photorealistic images, viable deepfake videos, believable audio synthesis and human-like generative text produced by large language models like OpenAI’s GPT-1 it was not until the second half of 2022 with the release of a number of diffusion-based image services (MidJourney, Dall-E 2, Stable Diffusion), the release of OpenAI’s ChatGPT and the peppering of various text-to-video (Make-a-Video, Imagen Video) and text-to-3D (DreamFusion, Magic3D & Get3D) papers that the media and the mainstream took notice.\\r\\n\\r\\nWe are still in the infancy of generative AI, it is currently a novelty for consumers and businesses, but it will soon find its way into products, services, processes and all facets of business and our daily lives as it becomes a technological enabler for creating content and improving productivity. The jobs market will be heavily impacted as generative AI can not only augment or automate current creative functions of jobs but can be used to entirely replace certain job functions, making those jobs irrelevant.\\r\\nThe impact of generative AI will no doubt be a substantial topic in 2023. The use cases of generating image, text, code, audio, music, video, and 3D models we have seen thus far are just the tip of the iceberg, expect more innovations to come in 2023 along with further backlash from communities whose jobs will be affected by the commoditization of generative AI.\\r\\n', mimetype='text/plain', start_char_idx=None, end_char_idx=None, text_template='{metadata_str}\\n\\n{content}', metadata_template='{key}: {value}', metadata_seperator='\\n')]"
      ]
     },
     "execution_count": 15,
     "metadata": {},
     "output_type": "execute_result"
    }
   ],
   "source": [
    "docs"
   ]
  },
  {
   "cell_type": "code",
   "execution_count": 18,
   "metadata": {},
   "outputs": [
    {
     "name": "stdout",
     "output_type": "stream",
     "text": [
      "Generative AI will be the most disruptive technological innovation since the advent of the personal computer and the inception of the Internet with the potential to create 10s of millions of new jobs, permanently alter the way we work, fuel the creator economy, and displace or augment 100s of millions of workers in roles from computer programmers to computer graphics artists, photographers, video editors, digital marketers and yes, even journalists. Even with all the hype around generative AI this year, it’s true power has not yet been seen or felt, in 2023 there will be significant innovations that will begin a revolution that will leave no industry or job function un-impacted in one way or another.\n",
      "Generative AI research can trace its history back to the 1960s. However generative AI began to develop into something similar to its current form in 2006, with the first significant paper in the field, Geoffrey Hinton and his co-author’s “A Fast Learning Algorithm for Deep Belief Nets” which re-introduced Restricted Boltzmann Machines in the context of deep learning (he originally introduced the RBM concept in 1983.)\n",
      "However few innovations took place in the field, until in 2014, with the introduction of GANs by Ian Goodfellow and his colleagues. Generative AI developments in research were made in the following years, most significantly the introduction of the transformer architecture for natural language processing applications, presented in the paper “Attention is all you Need” by Vaswani and colleagues from Google.\n",
      "Although most people will admit that they were not aware of generative AI until 2022. This is when the technology was put into the hands of consumers with the release of several text-to-image model services like MidJourney, Dall-E 2, Imagen, and the open-source release of Stability AI’s Stable Diffusion. This was quickly followed up by OpenAI’s ChatGPT which mesmerized consumers with a version of GPT-3 re-trained on conversational dialog that seemingly had an answer for everything and delivered responses in a very human-like manner. At the same time VCs looking for the hot new technology to invest in caught the generative AI bug and both Stability AI and Jasper both became instant unicorns with Series A funding exceeding $100 million. GitHub’s Copilot also saw widespread adoption, a tool built on Open AI’s Codex which was trained on all public code repositories in Github and assists developers by converting natural language into executable software code.\n",
      "However, there has been significant backlash against generative AI. Many concerns have been raised about possible copyright infringements for generative AI art, text, and code as well as the impact to creative jobs. A class action lawsuit brought against Microsoft for Copilot will set a valuable precedence in the courts for which other lawsuits may be filed as many developers contend their intellectual property has been stolen. Artists, authors, and developers want to have their work excluded from the wide-scale scraping performed to create viable datasets for the large language and image models and artists on ArtStation have revolted requesting that all AI-generated art be banned from the platform.\n",
      "\n",
      "Generative AI has been an active area of research since the 1960s when Joseph Weizenbaum developed the first chatbot named ELIZA. It was one of the first examples of Natural Language Processing (NLP) and was designed to simulate conversations with a human user by generating responses based on the text it received. Although the system was a primitive rules-based implementation intended to synthesize a human conversation, it paved the way for further developments over the coming decades in the field of NLP.\n",
      "Modern generative AI is built on deep learning, which can trace its beginnings back to the 1950s. Deep learning innovations were fairly quiet for decades then saw a resurgence in the 80s and 90s with the advent of artificial neural networks (ANNs) and backpropagation algorithms. By the 2000s and 2010s the amount of data available and computational capabilities improved to the point where it would make deep learning practical. It was in 2012 that Geoffrey Hinton and his team made a breakthrough in the field of speech recognition using convolutional neural networks (CNNs) and then again in 2014 he and his team made a similar breakthrough in the field of image classification, which paved the way for major subsequent innovations in the study of artificial intelligence.\n",
      "\n",
      "In 2014 Ian Goodfellow released his seminal paper on Generative Adversarial Networks (GANs) which positioned two networks against each other in a zero-sum game to create viable novel images that were similar in appearance to the images the model was trained on, but not the same. This work led to incremental developments in the GAN architecture which yielded increasingly better results in image synthesis over the following years, and the same methods began to be applied to new applications like music composition. New model architectures were developed in the form of convolutional and recurrent neural networks (text generation, video), long short-term memory (LSTM) (text generation), transformers (text generation), variational auto encoders (VAEs) (image generation), diffusion models (image generation) and various flow model architectures (audio, image, video.) Additional adjacent work in generative AI produced neural radiance fields (NeRF) which can construct 3D scenes and assets out of 2D images and reinforcement learning which uses simulations to train an agent through reward-based trial and error.\n",
      "Although significant achievements in the space have been realized in recent years, including the generation of photorealistic images, viable deepfake videos, believable audio synthesis and human-like generative text produced by large language models like OpenAI’s GPT-1 it was not until the second half of 2022 with the release of a number of diffusion-based image services (MidJourney, Dall-E 2, Stable Diffusion), the release of OpenAI’s ChatGPT and the peppering of various text-to-video (Make-a-Video, Imagen Video) and text-to-3D (DreamFusion, Magic3D & Get3D) papers that the media and the mainstream took notice.\n",
      "\n",
      "We are still in the infancy of generative AI, it is currently a novelty for consumers and businesses, but it will soon find its way into products, services, processes and all facets of business and our daily lives as it becomes a technological enabler for creating content and improving productivity. The jobs market will be heavily impacted as generative AI can not only augment or automate current creative functions of jobs but can be used to entirely replace certain job functions, making those jobs irrelevant.\n",
      "The impact of generative AI will no doubt be a substantial topic in 2023. The use cases of generating image, text, code, audio, music, video, and 3D models we have seen thus far are just the tip of the iceberg, expect more innovations to come in 2023 along with further backlash from communities whose jobs will be affected by the commoditization of generative AI.\n",
      "\n"
     ]
    }
   ],
   "source": [
    "print(docs[0].text)"
   ]
  },
  {
   "cell_type": "code",
   "execution_count": 20,
   "metadata": {},
   "outputs": [],
   "source": [
    "model=Gemini(models='gemini-1.5-flash', api_key=google_api_key)"
   ]
  },
  {
   "cell_type": "code",
   "execution_count": 21,
   "metadata": {},
   "outputs": [],
   "source": [
    "gemini_embed_model=genai.embed_content(model=\"models/text-embedding-004\", content=\"../Data\")"
   ]
  },
  {
   "cell_type": "code",
   "execution_count": 22,
   "metadata": {},
   "outputs": [],
   "source": [
    "Settings.llm = model\n",
    "Settings.embed_model = GeminiEmbedding(model=\"gemini_embed_model\")\n",
    "Settings.chunk_size=800\n",
    "Settings.chunk_overlap=20"
   ]
  },
  {
   "cell_type": "code",
   "execution_count": 23,
   "metadata": {},
   "outputs": [],
   "source": [
    "index = VectorStoreIndex(documents, embed_model=Settings.embed_model, llm=Settings.llm)"
   ]
  },
  {
   "cell_type": "code",
   "execution_count": 24,
   "metadata": {},
   "outputs": [],
   "source": [
    "index = VectorStoreIndex.from_documents(docs)\n",
    "index.embed_model = gemini_embed_model\n",
    "index.llm = model"
   ]
  },
  {
   "cell_type": "code",
   "execution_count": 25,
   "metadata": {},
   "outputs": [],
   "source": [
    "index.storage_context.persist()"
   ]
  },
  {
   "cell_type": "code",
   "execution_count": 26,
   "metadata": {},
   "outputs": [],
   "source": [
    "query_engine=index.as_query_engine()"
   ]
  },
  {
   "cell_type": "code",
   "execution_count": 27,
   "metadata": {},
   "outputs": [],
   "source": [
    "response=query_engine.query(\"What happened in 2014?\")"
   ]
  },
  {
   "cell_type": "code",
   "execution_count": 28,
   "metadata": {},
   "outputs": [
    {
     "name": "stdout",
     "output_type": "stream",
     "text": [
      "In 2014, Ian Goodfellow released his seminal paper on Generative Adversarial Networks (GANs), which positioned two networks against each other in a zero-sum game to create viable novel images that were similar in appearance to the images the model was trained on, but not the same. \n",
      "\n"
     ]
    }
   ],
   "source": [
    "print(response.response)"
   ]
  },
  {
   "cell_type": "code",
   "execution_count": null,
   "metadata": {},
   "outputs": [],
   "source": []
  }
 ],
 "metadata": {
  "kernelspec": {
   "display_name": "Python 3",
   "language": "python",
   "name": "python3"
  },
  "language_info": {
   "codemirror_mode": {
    "name": "ipython",
    "version": 3
   },
   "file_extension": ".py",
   "mimetype": "text/x-python",
   "name": "python",
   "nbconvert_exporter": "python",
   "pygments_lexer": "ipython3",
   "version": "3.10.14"
  }
 },
 "nbformat": 4,
 "nbformat_minor": 2
}
